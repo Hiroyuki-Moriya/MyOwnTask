{
 "cells": [
  {
   "cell_type": "markdown",
   "metadata": {},
   "source": [
    "シリーズ名　自分で作った課題 My own task  \n",
    "数学 Mathematics  \n",
    "四平方の定理 Lagrange's four-square theorem  \n",
    "すべての自然数は４つの平方数の和であらわすことができる。　　\n",
    " \n",
    "修正点  \n",
    "\n",
    "\n"
   ]
  },
  {
   "cell_type": "markdown",
   "metadata": {},
   "source": [
    "# MyOwnTask_Math(四平方の定理 Lagrange's four-square theorem)\n",
    "  すべての自然数は４つの平方数の和であらわすことができる。  \n",
    "\n",
    "## 入力される値\n",
    "入力は以下のフォーマットで入力されます。  \n",
    "`n1 n2 n3 n4`\n",
    "n は整数  \n",
    "入力値最終行の末尾に改行が１つ入ります。  \n",
    "\n",
    "## 期待する出力\n",
    "n1,n2,n3,n4の平方数の和を出力して下さい。  \n",
    "・n1**2 + n2**2 + n3**2 + n4**2 \n",
    "最後は改行し、余計な文字、空行を含んではいけません。   \n",
    "\n",
    "## 条件\n",
    "すべてのテストケースで以下の条件を満たします。  \n",
    "0 ≦ n   \n",
    "n は整数  "
   ]
  },
  {
   "cell_type": "code",
   "execution_count": 3,
   "metadata": {},
   "outputs": [
    {
     "name": "stdout",
     "output_type": "stream",
     "text": [
      "1 2 3 4\n",
      "30\n"
     ]
    }
   ],
   "source": [
    "n = input().split(' ')\n",
    "result = 0\n",
    "for i in range(4):\n",
    "    result = int(n[i])**2 + result\n",
    "print(result)\n"
   ]
  },
  {
   "cell_type": "code",
   "execution_count": null,
   "metadata": {},
   "outputs": [],
   "source": []
  }
 ],
 "metadata": {
  "kernelspec": {
   "display_name": "Python 3",
   "language": "python",
   "name": "python3"
  },
  "language_info": {
   "codemirror_mode": {
    "name": "ipython",
    "version": 3
   },
   "file_extension": ".py",
   "mimetype": "text/x-python",
   "name": "python",
   "nbconvert_exporter": "python",
   "pygments_lexer": "ipython3",
   "version": "3.6.5"
  }
 },
 "nbformat": 4,
 "nbformat_minor": 2
}
