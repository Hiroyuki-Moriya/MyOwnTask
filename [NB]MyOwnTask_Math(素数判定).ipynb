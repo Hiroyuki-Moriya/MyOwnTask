{
 "cells": [
  {
   "cell_type": "markdown",
   "metadata": {},
   "source": [
    "シリーズ名　自分で作った課題 My own task  \n",
    "数学 Mathematics  \n",
    "素数 Prime numbers  \n",
    "\n",
    "素数判定とともに約数も求めている。  \n",
    "修正点  \n",
    "\n",
    "②divisorNumber_listの最後に自分自身を加えるべき  \n",
    "\n"
   ]
  },
  {
   "cell_type": "markdown",
   "metadata": {},
   "source": [
    "# MyOwnTask_Math(Prime numbers素数判定)\n",
    "  2から100までの整数 n が与えられるので、素数であれば'素数'そうでなければ'合成数'を出力して下さい。  \n",
    "  素数（そすう、英: prime number）とは、1 より大きい自然数で、正の約数（やくすう、英: divisor）が 1 と自分自身のみであるもののことである。正の約数の個数が 2 である自然数と言い換えることもできる。1 より大きい自然数で素数でないものは合成数（ごうせいすう、英: Composite number）と呼ばれる。  \n",
    "\n",
    "## 入力される値\n",
    "入力は以下のフォーマットで入力されます。  \n",
    "`n`\n",
    "n は整数  \n",
    "入力値最終行の末尾に改行が１つ入ります。  \n",
    "\n",
    "## 期待する出力\n",
    "`素数`または`合成数`を出力して下さい。  \n",
    "最後は改行し、余計な文字、空行を含んではいけません。   \n",
    "\n",
    "## 条件\n",
    "すべてのテストケースで以下の条件を満たします。  \n",
    "2 ≦ n   \n",
    "n は整数  "
   ]
  },
  {
   "cell_type": "code",
   "execution_count": 4,
   "metadata": {},
   "outputs": [
    {
     "name": "stdout",
     "output_type": "stream",
     "text": [
      "3\n",
      "素数\n"
     ]
    }
   ],
   "source": [
    "inputNumber = int(input())\n",
    "divisorNumber_list = [] #約数を入れるテーブル\n",
    "i = 2\n",
    "while (inputNumber > i) and (i <= int(inputNumber/2)):\n",
    "    # 約数を見つけたらdivisorNumber_listに約数を入れておく\n",
    "    if inputNumber % i == 0:\n",
    "        divisorNumber_list.append(i)\n",
    "    #print(inputNumber,'%',i,'=',inputNumber % i,'合成数' if (inputNumber % i == 0) else '') #条件演算 #for debug\n",
    "    i = i + 1\n",
    "if len(divisorNumber_list) == 0:\n",
    "    print('素数')\n",
    "else:\n",
    "    print('合成数')\n",
    "#print(divisorNumber_list) #for debug\n"
   ]
  },
  {
   "cell_type": "code",
   "execution_count": null,
   "metadata": {},
   "outputs": [],
   "source": []
  }
 ],
 "metadata": {
  "kernelspec": {
   "display_name": "Python 3",
   "language": "python",
   "name": "python3"
  },
  "language_info": {
   "codemirror_mode": {
    "name": "ipython",
    "version": 3
   },
   "file_extension": ".py",
   "mimetype": "text/x-python",
   "name": "python",
   "nbconvert_exporter": "python",
   "pygments_lexer": "ipython3",
   "version": "3.6.5"
  }
 },
 "nbformat": 4,
 "nbformat_minor": 2
}
